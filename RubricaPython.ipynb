{
  "nbformat": 4,
  "nbformat_minor": 0,
  "metadata": {
    "colab": {
      "provenance": [],
      "authorship_tag": "ABX9TyM3Z7OC60AJHuF5Vt6QLMkY",
      "include_colab_link": true
    },
    "kernelspec": {
      "name": "python3",
      "display_name": "Python 3"
    },
    "language_info": {
      "name": "python"
    }
  },
  "cells": [
    {
      "cell_type": "markdown",
      "metadata": {
        "id": "view-in-github",
        "colab_type": "text"
      },
      "source": [
        "<a href=\"https://colab.research.google.com/github/emidio90/RubricaPython/blob/main/RubricaPython.ipynb\" target=\"_parent\"><img src=\"https://colab.research.google.com/assets/colab-badge.svg\" alt=\"Open In Colab\"/></a>"
      ]
    },
    {
      "cell_type": "markdown",
      "source": [
        "<h1 style=\"text-align: center;\">Rubrica ContactEase</h1>"
      ],
      "metadata": {
        "id": "I8We7qkAOPsu"
      }
    },
    {
      "cell_type": "markdown",
      "source": [
        "Definiamo una classe Contact che rappresenta un contatto con attributi per il nome, il cognome e il numero di telefono. La classe include metodi per aggiornare i contatti e verificare se un nome corrisponde al contatto."
      ],
      "metadata": {
        "id": "58MkvipzO6Xl"
      }
    },
    {
      "cell_type": "code",
      "execution_count": null,
      "metadata": {
        "id": "fUs6aR5gUiJ1"
      },
      "outputs": [],
      "source": [
        "class Contact:\n",
        "    def __init__(self, first_name, last_name, phone):\n",
        "        self.first_name = first_name\n",
        "        self.last_name = last_name\n",
        "        self.phone = phone\n",
        "\n",
        "    def __str__(self):\n",
        "        return f\"{self.first_name} {self.last_name}: {self.phone}\"\n",
        "\n",
        "    def update_contact(self, first_name=None, last_name=None, phone=None):\n",
        "        if first_name:\n",
        "            self.first_name = first_name\n",
        "        if last_name:\n",
        "            self.last_name = last_name\n",
        "        if phone:\n",
        "            self.phone = phone\n",
        "\n",
        "    def matches(self, name):\n",
        "        full_name = f\"{self.first_name} {self.last_name}\"\n",
        "        return name.lower() in full_name.lower()"
      ]
    },
    {
      "cell_type": "markdown",
      "source": [
        "Questa cella contiene funzioni per la gestione dei contatti, tra cui la funzione ask_input per richiedere input all'utente, e read_from_json per leggere i contatti da un file JSON. Inoltre viene definito il percorso del file JSON tramite una costante."
      ],
      "metadata": {
        "id": "tULPvKgPPWOU"
      }
    },
    {
      "cell_type": "code",
      "source": [
        "import json\n",
        "import os\n",
        "\n",
        "FILE_PATH = 'contacts.json'\n",
        "\n",
        "def ask_input():\n",
        "    first_name = input(\"Nome: \")\n",
        "    while not first_name.isalpha():\n",
        "        print(\"Per favore, inserisci un nome valido.\")\n",
        "        first_name = input(\"Nome: \")\n",
        "    last_name = input(\"Cognome: \")\n",
        "    while not last_name.isalpha():\n",
        "        print(\"Per favore, inserisci un cognome valido.\")\n",
        "        last_name = input(\"Cognome: \")\n",
        "    phone = input(\"Numero: \")\n",
        "    while not phone.isnumeric():\n",
        "        print(\"Per favore, inserisci un numero di telefono valido.\")\n",
        "        phone = input(\"Numero: \")\n",
        "    return first_name, last_name, phone\n",
        "\n",
        "def read_from_json():\n",
        "    contacts = []\n",
        "    if os.path.exists(FILE_PATH):\n",
        "        with open(FILE_PATH, 'r') as contatti_json:\n",
        "            data = json.load(contatti_json).get(\"Contatti\", [])\n",
        "            for d in data:\n",
        "                contacts.append(Contact(d['first_name'], d['last_name'], d['phone']))\n",
        "    return contacts\n"
      ],
      "metadata": {
        "id": "7Efn8VbYJ-G7"
      },
      "execution_count": null,
      "outputs": []
    },
    {
      "cell_type": "markdown",
      "source": [
        "In questa cella, definiamo la classe ContactList, che gestisce una lista di contatti. La classe include metodi per aggiungere, rimuovere, mostrare, cercare e modificare i contatti, oltre a un metodo per scrivere i contatti in un file JSON."
      ],
      "metadata": {
        "id": "vq5CivHtP2Qs"
      }
    },
    {
      "cell_type": "code",
      "source": [
        "class ContactList:\n",
        "\n",
        "    def __init__(self):\n",
        "        self.contacts = read_from_json()\n",
        "\n",
        "    def add_contact(self, contact):\n",
        "        self.contacts.append(contact)\n",
        "        self.write_to_json()\n",
        "\n",
        "    def remove_contact(self, contact):\n",
        "        self.contacts.remove(contact)\n",
        "        self.write_to_json()\n",
        "\n",
        "    def show_contacts(self):\n",
        "        if not self.contacts:\n",
        "            print(\"Nessun contatto esistente.\")\n",
        "            return False\n",
        "        else:\n",
        "            for contact in self.contacts:\n",
        "                print(contact)\n",
        "\n",
        "    def find_contact(self, name):\n",
        "        results = []\n",
        "        for contact in self.contacts:\n",
        "            if contact.matches(name):\n",
        "                results.append(contact)\n",
        "        return results\n",
        "\n",
        "    def edit_contact(self, contact):\n",
        "        choice = input(\"Premi 1 per modificare, premi 2 per eliminare: \")\n",
        "        if choice == \"1\":\n",
        "            first_name, last_name, phone = ask_input()\n",
        "            contact.update_contact(first_name, last_name, phone)\n",
        "            self.write_to_json()\n",
        "            print(\"Contatto modificato correttamente.\")\n",
        "            return_menu(self)\n",
        "        elif choice == \"2\":\n",
        "            self.remove_contact(contact)\n",
        "            print(\"Contatto eliminato correttamente.\")\n",
        "            return_menu(self)\n",
        "        else:\n",
        "            return_menu(self)\n",
        "\n",
        "    def write_to_json(self):\n",
        "        data = {'Contatti': [{'first_name': c.first_name, 'last_name': c.last_name, 'phone': c.phone} for c in self.contacts]}\n",
        "        with open(FILE_PATH, 'w') as contatti_json:\n",
        "            json.dump(data, contatti_json, indent=4)\n"
      ],
      "metadata": {
        "id": "yLyjPnvpKGHc"
      },
      "execution_count": null,
      "outputs": []
    },
    {
      "cell_type": "markdown",
      "source": [
        "Questa cella contiene funzioni per visualizzare il menù e gestire le scelte dell'utente."
      ],
      "metadata": {
        "id": "cIqSQMOMQNn4"
      }
    },
    {
      "cell_type": "code",
      "source": [
        "def print_menu():\n",
        "    print(\"--------------------------------\")\n",
        "    print(\"| RUBRICA CONTATTI ContactEase |\")\n",
        "    print(\"--------------------------------\")\n",
        "\n",
        "    print(\"\\n1) Visualizza contatti esistenti\")\n",
        "    print(\"2) Inserisci contatto\")\n",
        "    print(\"3) Cerca contatto per nome o cognome\")\n",
        "    print(\"4) Modifica o rimuovi contatto\\n\")\n",
        "\n",
        "def make_choice(lista_contatti):\n",
        "    choice = input(\"Seleziona un'opzione: \")\n",
        "    while choice not in [\"1\", \"2\", \"3\", \"4\"]:\n",
        "        print(\"Scelta non valida. Inserisci un numero compreso fra 1 e 4.\")\n",
        "        make_choice(lista_contatti)\n",
        "\n",
        "    if choice == '1':\n",
        "        response = lista_contatti.show_contacts()\n",
        "        if not response:\n",
        "            make_choice(lista_contatti)\n",
        "        else:\n",
        "            return_menu(lista_contatti)\n",
        "\n",
        "    elif choice == '2':\n",
        "        first_name, last_name, phone = ask_input()\n",
        "        print(f\"\\n{first_name} {last_name}: {phone}\")\n",
        "        confirm = input(\"Confermi? [si/no]: \")\n",
        "        if confirm.lower() == \"si\":\n",
        "            contact = Contact(first_name, last_name, phone)\n",
        "            lista_contatti.add_contact(contact)\n",
        "            print(\"Contatto aggiunto correttamente.\")\n",
        "        else:\n",
        "            make_choice(lista_contatti)\n",
        "        return_menu(lista_contatti)\n",
        "\n",
        "    elif choice == '3':\n",
        "        name = input(\"Inserisci un nome da cercare: \")\n",
        "        results = lista_contatti.find_contact(name)\n",
        "        if results:\n",
        "            print(\"Contatti trovati: \")\n",
        "            for contact in results:\n",
        "                print(contact)\n",
        "        else:\n",
        "            print(\"Contatto non trovato.\")\n",
        "        return_menu(lista_contatti)\n",
        "\n",
        "    elif choice == '4':\n",
        "        name = input(\"Inserisci il nome del contatto da modificare: \")\n",
        "        results = lista_contatti.find_contact(name)\n",
        "        if len(results) == 1:\n",
        "            print(results[0])\n",
        "            contact = results[0]\n",
        "            lista_contatti.edit_contact(contact)\n",
        "        elif len(results) > 1:\n",
        "            print(\"Contatti trovati: \")\n",
        "            for i, contact in enumerate(results, start=1):\n",
        "                print(f\"{i}) {contact}\")\n",
        "            try:\n",
        "                choice = int(input(\"Seleziona il contatto da modificare: \"))\n",
        "                if choice in range(len(results)+1):\n",
        "                    contact = results[choice - 1]\n",
        "                    lista_contatti.edit_contact(contact)\n",
        "                else:\n",
        "                    return_menu(lista_contatti)\n",
        "            except ValueError:\n",
        "                return_menu(lista_contatti)\n",
        "        else:\n",
        "            print(\"Contatto non trovato.\")\n",
        "            return_menu(lista_contatti)\n"
      ],
      "metadata": {
        "id": "EG10XZzpMuT9"
      },
      "execution_count": null,
      "outputs": []
    },
    {
      "cell_type": "markdown",
      "source": [
        "Questa cella contiene la funzione principale per avviare il programma. La funzione main inizializza una lista di contatti e mostra il menu all'utente, gestendo l'interazione tramite le funzioni definite nelle celle precedenti."
      ],
      "metadata": {
        "id": "68cnQjYQQp_d"
      }
    },
    {
      "cell_type": "code",
      "source": [
        "def return_menu(lista_contatti):\n",
        "    input(\"Premi Invio per uscire...\")\n",
        "    main(lista_contatti)\n",
        "\n",
        "def main(lista_contatti=None):\n",
        "    if not lista_contatti:\n",
        "        lista_contatti = ContactList()\n",
        "    print_menu()\n",
        "    make_choice(lista_contatti)\n",
        "\n",
        "main()\n"
      ],
      "metadata": {
        "id": "BYggFMBJMzzT"
      },
      "execution_count": null,
      "outputs": []
    }
  ]
}